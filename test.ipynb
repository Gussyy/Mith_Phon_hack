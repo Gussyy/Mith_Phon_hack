{
 "cells": [
  {
   "cell_type": "code",
   "execution_count": 1,
   "metadata": {},
   "outputs": [
    {
     "name": "stdout",
     "output_type": "stream",
     "text": [
      "E:\\work\\mith_phon\n"
     ]
    },
    {
     "name": "stderr",
     "output_type": "stream",
     "text": [
      "c:\\workna\\envs\\phon_env\\lib\\site-packages\\IPython\\core\\magics\\osm.py:417: UserWarning: using dhist requires you to install the `pickleshare` library.\n",
      "  self.shell.db['dhist'] = compress_dhist(dhist)[-100:]\n"
     ]
    }
   ],
   "source": [
    "cd E:\\work\\mith_phon"
   ]
  },
  {
   "cell_type": "code",
   "execution_count": 2,
   "metadata": {},
   "outputs": [
    {
     "name": "stderr",
     "output_type": "stream",
     "text": [
      "c:\\workna\\envs\\phon_env\\lib\\site-packages\\tqdm\\auto.py:21: TqdmWarning: IProgress not found. Please update jupyter and ipywidgets. See https://ipywidgets.readthedocs.io/en/stable/user_install.html\n",
      "  from .autonotebook import tqdm as notebook_tqdm\n"
     ]
    }
   ],
   "source": [
    "from phon_lib import RAI_ML"
   ]
  },
  {
   "cell_type": "code",
   "execution_count": 3,
   "metadata": {},
   "outputs": [],
   "source": [
    "rai_status = RAI_ML()\n",
    "res = rai_status('G310036')"
   ]
  },
  {
   "cell_type": "code",
   "execution_count": 4,
   "metadata": {},
   "outputs": [
    {
     "data": {
      "text/plain": [
       "'Your field status:\\n-You need to give your plant more water\\n'"
      ]
     },
     "execution_count": 4,
     "metadata": {},
     "output_type": "execute_result"
    }
   ],
   "source": [
    "res"
   ]
  },
  {
   "cell_type": "code",
   "execution_count": 9,
   "metadata": {},
   "outputs": [],
   "source": [
    "import pandas as pd\n",
    "df = pd.read_csv('data_test.csv')"
   ]
  },
  {
   "cell_type": "code",
   "execution_count": 10,
   "metadata": {},
   "outputs": [
    {
     "data": {
      "text/html": [
       "<div>\n",
       "<style scoped>\n",
       "    .dataframe tbody tr th:only-of-type {\n",
       "        vertical-align: middle;\n",
       "    }\n",
       "\n",
       "    .dataframe tbody tr th {\n",
       "        vertical-align: top;\n",
       "    }\n",
       "\n",
       "    .dataframe thead th {\n",
       "        text-align: right;\n",
       "    }\n",
       "</style>\n",
       "<table border=\"1\" class=\"dataframe\">\n",
       "  <thead>\n",
       "    <tr style=\"text-align: right;\">\n",
       "      <th></th>\n",
       "      <th>Unnamed: 0</th>\n",
       "      <th>min_ndvi</th>\n",
       "      <th>max_ndvi</th>\n",
       "      <th>std_ndvi</th>\n",
       "      <th>avg_ndvi</th>\n",
       "      <th>min_wvp</th>\n",
       "      <th>max_wvp</th>\n",
       "      <th>std_wvp</th>\n",
       "      <th>avg_wvp</th>\n",
       "      <th>area</th>\n",
       "      <th>soil</th>\n",
       "      <th>type</th>\n",
       "      <th>y</th>\n",
       "    </tr>\n",
       "  </thead>\n",
       "  <tbody>\n",
       "    <tr>\n",
       "      <th>0</th>\n",
       "      <td>G310026</td>\n",
       "      <td>41.609687</td>\n",
       "      <td>98.710826</td>\n",
       "      <td>11.932922</td>\n",
       "      <td>71.860328</td>\n",
       "      <td>27.863248</td>\n",
       "      <td>40.747863</td>\n",
       "      <td>3.376365</td>\n",
       "      <td>34.598932</td>\n",
       "      <td>7.23</td>\n",
       "      <td>ดินเหนียว</td>\n",
       "      <td>อ้อยน้ำราด</td>\n",
       "      <td>1.618257</td>\n",
       "    </tr>\n",
       "    <tr>\n",
       "      <th>1</th>\n",
       "      <td>G310036</td>\n",
       "      <td>69.053498</td>\n",
       "      <td>180.002058</td>\n",
       "      <td>26.891857</td>\n",
       "      <td>158.603538</td>\n",
       "      <td>49.067387</td>\n",
       "      <td>74.418724</td>\n",
       "      <td>6.006156</td>\n",
       "      <td>53.796125</td>\n",
       "      <td>30.62</td>\n",
       "      <td>ดินเหนียว</td>\n",
       "      <td>อ้อยน้ำราด</td>\n",
       "      <td>0.424559</td>\n",
       "    </tr>\n",
       "    <tr>\n",
       "      <th>2</th>\n",
       "      <td>G310037</td>\n",
       "      <td>69.359428</td>\n",
       "      <td>138.953704</td>\n",
       "      <td>13.289675</td>\n",
       "      <td>101.683353</td>\n",
       "      <td>44.617003</td>\n",
       "      <td>71.671717</td>\n",
       "      <td>9.041502</td>\n",
       "      <td>56.319519</td>\n",
       "      <td>18.17</td>\n",
       "      <td>ดินทราย</td>\n",
       "      <td>อ้อยน้ำราด</td>\n",
       "      <td>0.649422</td>\n",
       "    </tr>\n",
       "    <tr>\n",
       "      <th>3</th>\n",
       "      <td>G310049</td>\n",
       "      <td>67.394218</td>\n",
       "      <td>119.461224</td>\n",
       "      <td>10.958326</td>\n",
       "      <td>90.851939</td>\n",
       "      <td>30.714966</td>\n",
       "      <td>54.916327</td>\n",
       "      <td>6.259056</td>\n",
       "      <td>40.719201</td>\n",
       "      <td>29.46</td>\n",
       "      <td>ดินเหนียว</td>\n",
       "      <td>อ้อยน้ำราด</td>\n",
       "      <td>0.475221</td>\n",
       "    </tr>\n",
       "    <tr>\n",
       "      <th>4</th>\n",
       "      <td>G310024</td>\n",
       "      <td>21.893907</td>\n",
       "      <td>51.684588</td>\n",
       "      <td>9.722939</td>\n",
       "      <td>31.286930</td>\n",
       "      <td>16.232258</td>\n",
       "      <td>18.678136</td>\n",
       "      <td>0.654736</td>\n",
       "      <td>17.205448</td>\n",
       "      <td>7.38</td>\n",
       "      <td>ดินเหนียว</td>\n",
       "      <td>อ้อยตอ2</td>\n",
       "      <td>1.074526</td>\n",
       "    </tr>\n",
       "  </tbody>\n",
       "</table>\n",
       "</div>"
      ],
      "text/plain": [
       "  Unnamed: 0   min_ndvi    max_ndvi   std_ndvi    avg_ndvi    min_wvp  \\\n",
       "0    G310026  41.609687   98.710826  11.932922   71.860328  27.863248   \n",
       "1    G310036  69.053498  180.002058  26.891857  158.603538  49.067387   \n",
       "2    G310037  69.359428  138.953704  13.289675  101.683353  44.617003   \n",
       "3    G310049  67.394218  119.461224  10.958326   90.851939  30.714966   \n",
       "4    G310024  21.893907   51.684588   9.722939   31.286930  16.232258   \n",
       "\n",
       "     max_wvp   std_wvp    avg_wvp   area       soil        type         y  \n",
       "0  40.747863  3.376365  34.598932   7.23  ดินเหนียว  อ้อยน้ำราด  1.618257  \n",
       "1  74.418724  6.006156  53.796125  30.62  ดินเหนียว  อ้อยน้ำราด  0.424559  \n",
       "2  71.671717  9.041502  56.319519  18.17    ดินทราย  อ้อยน้ำราด  0.649422  \n",
       "3  54.916327  6.259056  40.719201  29.46  ดินเหนียว  อ้อยน้ำราด  0.475221  \n",
       "4  18.678136  0.654736  17.205448   7.38  ดินเหนียว     อ้อยตอ2  1.074526  "
      ]
     },
     "execution_count": 10,
     "metadata": {},
     "output_type": "execute_result"
    }
   ],
   "source": [
    "df.head()"
   ]
  },
  {
   "cell_type": "code",
   "execution_count": 11,
   "metadata": {},
   "outputs": [],
   "source": [
    "df['avg_wvp'] = df['avg_wvp']/df['area']\n",
    "df['avg_ndvi'] = df['avg_ndvi']/df['area']"
   ]
  },
  {
   "cell_type": "code",
   "execution_count": 22,
   "metadata": {},
   "outputs": [
    {
     "data": {
      "text/html": [
       "<div>\n",
       "<style scoped>\n",
       "    .dataframe tbody tr th:only-of-type {\n",
       "        vertical-align: middle;\n",
       "    }\n",
       "\n",
       "    .dataframe tbody tr th {\n",
       "        vertical-align: top;\n",
       "    }\n",
       "\n",
       "    .dataframe thead th {\n",
       "        text-align: right;\n",
       "    }\n",
       "</style>\n",
       "<table border=\"1\" class=\"dataframe\">\n",
       "  <thead>\n",
       "    <tr style=\"text-align: right;\">\n",
       "      <th></th>\n",
       "      <th>Unnamed: 0</th>\n",
       "      <th>min_ndvi</th>\n",
       "      <th>max_ndvi</th>\n",
       "      <th>std_ndvi</th>\n",
       "      <th>avg_ndvi</th>\n",
       "      <th>min_wvp</th>\n",
       "      <th>max_wvp</th>\n",
       "      <th>std_wvp</th>\n",
       "      <th>avg_wvp</th>\n",
       "      <th>area</th>\n",
       "      <th>soil</th>\n",
       "      <th>type</th>\n",
       "      <th>y</th>\n",
       "    </tr>\n",
       "  </thead>\n",
       "  <tbody>\n",
       "    <tr>\n",
       "      <th>0</th>\n",
       "      <td>G310026</td>\n",
       "      <td>41.609687</td>\n",
       "      <td>98.710826</td>\n",
       "      <td>11.932922</td>\n",
       "      <td>9.939188</td>\n",
       "      <td>27.863248</td>\n",
       "      <td>40.747863</td>\n",
       "      <td>3.376365</td>\n",
       "      <td>4.785468</td>\n",
       "      <td>7.23</td>\n",
       "      <td>ดินเหนียว</td>\n",
       "      <td>อ้อยน้ำราด</td>\n",
       "      <td>1.618257</td>\n",
       "    </tr>\n",
       "  </tbody>\n",
       "</table>\n",
       "</div>"
      ],
      "text/plain": [
       "  Unnamed: 0   min_ndvi   max_ndvi   std_ndvi  avg_ndvi    min_wvp    max_wvp  \\\n",
       "0    G310026  41.609687  98.710826  11.932922  9.939188  27.863248  40.747863   \n",
       "\n",
       "    std_wvp   avg_wvp  area       soil        type         y  \n",
       "0  3.376365  4.785468  7.23  ดินเหนียว  อ้อยน้ำราด  1.618257  "
      ]
     },
     "execution_count": 22,
     "metadata": {},
     "output_type": "execute_result"
    }
   ],
   "source": [
    "df.iloc[df[df['Unnamed: 0'] == 'G310026'].index]"
   ]
  },
  {
   "cell_type": "code",
   "execution_count": 12,
   "metadata": {},
   "outputs": [
    {
     "data": {
      "text/html": [
       "<div>\n",
       "<style scoped>\n",
       "    .dataframe tbody tr th:only-of-type {\n",
       "        vertical-align: middle;\n",
       "    }\n",
       "\n",
       "    .dataframe tbody tr th {\n",
       "        vertical-align: top;\n",
       "    }\n",
       "\n",
       "    .dataframe thead th {\n",
       "        text-align: right;\n",
       "    }\n",
       "</style>\n",
       "<table border=\"1\" class=\"dataframe\">\n",
       "  <thead>\n",
       "    <tr style=\"text-align: right;\">\n",
       "      <th></th>\n",
       "      <th>Unnamed: 0</th>\n",
       "      <th>min_ndvi</th>\n",
       "      <th>max_ndvi</th>\n",
       "      <th>std_ndvi</th>\n",
       "      <th>avg_ndvi</th>\n",
       "      <th>min_wvp</th>\n",
       "      <th>max_wvp</th>\n",
       "      <th>std_wvp</th>\n",
       "      <th>avg_wvp</th>\n",
       "      <th>area</th>\n",
       "      <th>soil</th>\n",
       "      <th>type</th>\n",
       "      <th>y</th>\n",
       "    </tr>\n",
       "  </thead>\n",
       "  <tbody>\n",
       "    <tr>\n",
       "      <th>0</th>\n",
       "      <td>G310026</td>\n",
       "      <td>41.609687</td>\n",
       "      <td>98.710826</td>\n",
       "      <td>11.932922</td>\n",
       "      <td>9.939188</td>\n",
       "      <td>27.863248</td>\n",
       "      <td>40.747863</td>\n",
       "      <td>3.376365</td>\n",
       "      <td>4.785468</td>\n",
       "      <td>7.23</td>\n",
       "      <td>ดินเหนียว</td>\n",
       "      <td>อ้อยน้ำราด</td>\n",
       "      <td>1.618257</td>\n",
       "    </tr>\n",
       "    <tr>\n",
       "      <th>1</th>\n",
       "      <td>G310036</td>\n",
       "      <td>69.053498</td>\n",
       "      <td>180.002058</td>\n",
       "      <td>26.891857</td>\n",
       "      <td>5.179737</td>\n",
       "      <td>49.067387</td>\n",
       "      <td>74.418724</td>\n",
       "      <td>6.006156</td>\n",
       "      <td>1.756895</td>\n",
       "      <td>30.62</td>\n",
       "      <td>ดินเหนียว</td>\n",
       "      <td>อ้อยน้ำราด</td>\n",
       "      <td>0.424559</td>\n",
       "    </tr>\n",
       "    <tr>\n",
       "      <th>2</th>\n",
       "      <td>G310037</td>\n",
       "      <td>69.359428</td>\n",
       "      <td>138.953704</td>\n",
       "      <td>13.289675</td>\n",
       "      <td>5.596222</td>\n",
       "      <td>44.617003</td>\n",
       "      <td>71.671717</td>\n",
       "      <td>9.041502</td>\n",
       "      <td>3.099588</td>\n",
       "      <td>18.17</td>\n",
       "      <td>ดินทราย</td>\n",
       "      <td>อ้อยน้ำราด</td>\n",
       "      <td>0.649422</td>\n",
       "    </tr>\n",
       "    <tr>\n",
       "      <th>3</th>\n",
       "      <td>G310049</td>\n",
       "      <td>67.394218</td>\n",
       "      <td>119.461224</td>\n",
       "      <td>10.958326</td>\n",
       "      <td>3.083908</td>\n",
       "      <td>30.714966</td>\n",
       "      <td>54.916327</td>\n",
       "      <td>6.259056</td>\n",
       "      <td>1.382186</td>\n",
       "      <td>29.46</td>\n",
       "      <td>ดินเหนียว</td>\n",
       "      <td>อ้อยน้ำราด</td>\n",
       "      <td>0.475221</td>\n",
       "    </tr>\n",
       "    <tr>\n",
       "      <th>4</th>\n",
       "      <td>G310024</td>\n",
       "      <td>21.893907</td>\n",
       "      <td>51.684588</td>\n",
       "      <td>9.722939</td>\n",
       "      <td>4.239421</td>\n",
       "      <td>16.232258</td>\n",
       "      <td>18.678136</td>\n",
       "      <td>0.654736</td>\n",
       "      <td>2.331362</td>\n",
       "      <td>7.38</td>\n",
       "      <td>ดินเหนียว</td>\n",
       "      <td>อ้อยตอ2</td>\n",
       "      <td>1.074526</td>\n",
       "    </tr>\n",
       "  </tbody>\n",
       "</table>\n",
       "</div>"
      ],
      "text/plain": [
       "  Unnamed: 0   min_ndvi    max_ndvi   std_ndvi  avg_ndvi    min_wvp  \\\n",
       "0    G310026  41.609687   98.710826  11.932922  9.939188  27.863248   \n",
       "1    G310036  69.053498  180.002058  26.891857  5.179737  49.067387   \n",
       "2    G310037  69.359428  138.953704  13.289675  5.596222  44.617003   \n",
       "3    G310049  67.394218  119.461224  10.958326  3.083908  30.714966   \n",
       "4    G310024  21.893907   51.684588   9.722939  4.239421  16.232258   \n",
       "\n",
       "     max_wvp   std_wvp   avg_wvp   area       soil        type         y  \n",
       "0  40.747863  3.376365  4.785468   7.23  ดินเหนียว  อ้อยน้ำราด  1.618257  \n",
       "1  74.418724  6.006156  1.756895  30.62  ดินเหนียว  อ้อยน้ำราด  0.424559  \n",
       "2  71.671717  9.041502  3.099588  18.17    ดินทราย  อ้อยน้ำราด  0.649422  \n",
       "3  54.916327  6.259056  1.382186  29.46  ดินเหนียว  อ้อยน้ำราด  0.475221  \n",
       "4  18.678136  0.654736  2.331362   7.38  ดินเหนียว     อ้อยตอ2  1.074526  "
      ]
     },
     "execution_count": 12,
     "metadata": {},
     "output_type": "execute_result"
    }
   ],
   "source": [
    "df.head()"
   ]
  },
  {
   "cell_type": "code",
   "execution_count": 15,
   "metadata": {},
   "outputs": [
    {
     "data": {
      "text/plain": [
       "0.659501990688377"
      ]
     },
     "execution_count": 15,
     "metadata": {},
     "output_type": "execute_result"
    }
   ],
   "source": [
    "df['y'].mean()"
   ]
  },
  {
   "cell_type": "code",
   "execution_count": 14,
   "metadata": {},
   "outputs": [
    {
     "data": {
      "text/plain": [
       "2.805497162918183"
      ]
     },
     "execution_count": 14,
     "metadata": {},
     "output_type": "execute_result"
    }
   ],
   "source": [
    "df['avg_wvp'].mean()"
   ]
  },
  {
   "cell_type": "code",
   "execution_count": 13,
   "metadata": {},
   "outputs": [
    {
     "data": {
      "text/plain": [
       "5.180654651549202"
      ]
     },
     "execution_count": 13,
     "metadata": {},
     "output_type": "execute_result"
    }
   ],
   "source": [
    "df['avg_ndvi'].mean()"
   ]
  },
  {
   "cell_type": "code",
   "execution_count": 2,
   "metadata": {},
   "outputs": [
    {
     "name": "stderr",
     "output_type": "stream",
     "text": [
      "c:\\workna\\envs\\phon_env\\lib\\site-packages\\tqdm\\auto.py:21: TqdmWarning: IProgress not found. Please update jupyter and ipywidgets. See https://ipywidgets.readthedocs.io/en/stable/user_install.html\n",
      "  from .autonotebook import tqdm as notebook_tqdm\n"
     ]
    }
   ],
   "source": [
    "from phon_lib import ImageRetrieval\n",
    "from phon_lib import OPENAI_CLIEN, Agent_module, rag_system, qa_bot, sum_rag\n",
    "from phon_lib import sugar_rag, mith_phon_text"
   ]
  },
  {
   "cell_type": "code",
   "execution_count": 3,
   "metadata": {},
   "outputs": [
    {
     "name": "stderr",
     "output_type": "stream",
     "text": [
      "Fetching 30 files: 100%|██████████| 30/30 [00:00<?, ?it/s]\n",
      "c:\\workna\\envs\\phon_env\\lib\\site-packages\\FlagEmbedding\\BGE_M3\\modeling.py:335: FutureWarning: You are using `torch.load` with `weights_only=False` (the current default value), which uses the default pickle module implicitly. It is possible to construct malicious pickle data which will execute arbitrary code during unpickling (See https://github.com/pytorch/pytorch/blob/main/SECURITY.md#untrusted-models for more details). In a future release, the default value for `weights_only` will be flipped to `True`. This limits the functions that could be executed during unpickling. Arbitrary objects will no longer be allowed to be loaded via this mode unless they are explicitly allowlisted by the user via `torch.serialization.add_safe_globals`. We recommend you start setting `weights_only=True` for any use case where you don't have full control of the loaded file. Please open an issue on GitHub for any issues related to this experimental feature.\n",
      "  colbert_state_dict = torch.load(os.path.join(model_dir, 'colbert_linear.pt'), map_location='cpu')\n",
      "c:\\workna\\envs\\phon_env\\lib\\site-packages\\FlagEmbedding\\BGE_M3\\modeling.py:336: FutureWarning: You are using `torch.load` with `weights_only=False` (the current default value), which uses the default pickle module implicitly. It is possible to construct malicious pickle data which will execute arbitrary code during unpickling (See https://github.com/pytorch/pytorch/blob/main/SECURITY.md#untrusted-models for more details). In a future release, the default value for `weights_only` will be flipped to `True`. This limits the functions that could be executed during unpickling. Arbitrary objects will no longer be allowed to be loaded via this mode unless they are explicitly allowlisted by the user via `torch.serialization.add_safe_globals`. We recommend you start setting `weights_only=True` for any use case where you don't have full control of the loaded file. Please open an issue on GitHub for any issues related to this experimental feature.\n",
      "  sparse_state_dict = torch.load(os.path.join(model_dir, 'sparse_linear.pt'), map_location='cpu')\n",
      "100%|██████████| 62/62 [00:00<00:00, 74.82it/s]\n",
      "100%|██████████| 3/3 [00:00<00:00, 166.66it/s]\n",
      "  0%|          | 0/8 [00:00<?, ?it/s]c:\\workna\\envs\\phon_env\\lib\\site-packages\\transformers\\models\\xlm_roberta\\modeling_xlm_roberta.py:371: UserWarning: 1Torch was not compiled with flash attention. (Triggered internally at C:\\cb\\pytorch_1000000000000\\work\\aten\\src\\ATen\\native\\transformers\\cuda\\sdp_utils.cpp:555.)\n",
      "  attn_output = torch.nn.functional.scaled_dot_product_attention(\n",
      "100%|██████████| 8/8 [00:00<00:00, 11.66it/s]\n"
     ]
    }
   ],
   "source": [
    "rager = sugar_rag('การปลูกอ้อย.pdf', mith_phon_text, 16)"
   ]
  },
  {
   "cell_type": "code",
   "execution_count": 4,
   "metadata": {},
   "outputs": [],
   "source": [
    "res = rager('การปลูกอ้อย', 3)"
   ]
  },
  {
   "cell_type": "code",
   "execution_count": 5,
   "metadata": {},
   "outputs": [],
   "source": [
    "rag_bot = Agent_module('rag_bot', rag_system, OPENAI_CLIEN)\n",
    "chater = Agent_module('chat_bot', qa_bot, OPENAI_CLIEN)\n",
    "sum_bot = Agent_module('sum_bot', sum_rag, OPENAI_CLIEN)"
   ]
  },
  {
   "cell_type": "code",
   "execution_count": 3,
   "metadata": {},
   "outputs": [
    {
     "name": "stderr",
     "output_type": "stream",
     "text": [
      "Using cache found in C:\\Users\\Admin/.cache\\torch\\hub\\facebookresearch_dinov2_main\n",
      "C:\\Users\\Admin/.cache\\torch\\hub\\facebookresearch_dinov2_main\\dinov2\\layers\\swiglu_ffn.py:51: UserWarning: xFormers is not available (SwiGLU)\n",
      "  warnings.warn(\"xFormers is not available (SwiGLU)\")\n",
      "C:\\Users\\Admin/.cache\\torch\\hub\\facebookresearch_dinov2_main\\dinov2\\layers\\attention.py:33: UserWarning: xFormers is not available (Attention)\n",
      "  warnings.warn(\"xFormers is not available (Attention)\")\n",
      "C:\\Users\\Admin/.cache\\torch\\hub\\facebookresearch_dinov2_main\\dinov2\\layers\\block.py:40: UserWarning: xFormers is not available (Block)\n",
      "  warnings.warn(\"xFormers is not available (Block)\")\n"
     ]
    }
   ],
   "source": [
    "img_rev = ImageRetrieval('sugar_cane_desease')"
   ]
  },
  {
   "cell_type": "code",
   "execution_count": 4,
   "metadata": {},
   "outputs": [
    {
     "name": "stdout",
     "output_type": "stream",
     "text": [
      "6 ['White_Leaf_Disease', 'White_Leaf_Disease', 'White_Leaf_Disease', 'White_Leaf_Disease', 'White_Leaf_Disease', 'White_Leaf_Disease', 'โรคใบจุดเหลืองอ้อย', 'โรคใบจุดเหลืองอ้อย', 'โรคใบจุดเหลืองอ้อย', 'โรคใบจุดเหลืองอ้อย']\n"
     ]
    },
    {
     "data": {
      "text/plain": [
       "'โรคใบจุดเหลืองอ้อย'"
      ]
     },
     "execution_count": 4,
     "metadata": {},
     "output_type": "execute_result"
    }
   ],
   "source": [
    "img_rev('sugar_cane_desease\\โรคใบจุดเหลืองอ้อย\\87d2c0e7_c2301011c9ffb5b84b7b0d9e461850ee.jpg')"
   ]
  },
  {
   "cell_type": "code",
   "execution_count": null,
   "metadata": {},
   "outputs": [],
   "source": []
  }
 ],
 "metadata": {
  "kernelspec": {
   "display_name": "phon_env",
   "language": "python",
   "name": "python3"
  },
  "language_info": {
   "codemirror_mode": {
    "name": "ipython",
    "version": 3
   },
   "file_extension": ".py",
   "mimetype": "text/x-python",
   "name": "python",
   "nbconvert_exporter": "python",
   "pygments_lexer": "ipython3",
   "version": "3.9.19"
  }
 },
 "nbformat": 4,
 "nbformat_minor": 2
}
